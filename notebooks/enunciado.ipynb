{
 "cells": [
  {
   "cell_type": "code",
   "execution_count": 75,
   "metadata": {},
   "outputs": [
    {
     "name": "stdout",
     "output_type": "stream",
     "text": [
      "| Inciais: | Presión: | Composto 1   | Composto 2   |   x_1  | z_1  |\n",
      "| :------- | -------: | ---------:   | ---------:   | :----: | :--: |\n",
      "| PCF      |     2.22 | tolueno      | benceno      | 0.8023 | 0.56 |\n",
      "| ICP      |     2.08 | benceno      | m-xileno     | 0.2822 | 0.40 |\n",
      "| MCM      |     1.70 | tolueno      | hexano       | 0.6100 | 0.51 |\n",
      "| ACV      |     1.27 | m-xileno     | octano       | 0.8817 | 0.57 |\n",
      "| SFC      |     2.19 | octano       | ciclohexano  | 0.6454 | 0.46 |\n",
      "| FEFC     |     1.65 | benceno      | o-xileno     | 0.6681 | 0.57 |\n",
      "| MGL      |     1.55 | o-xileno     | p_xileno     | 0.4678 | 0.58 |\n",
      "| IGD      |     1.47 | octano       | heptano      | 0.2648 | 0.54 |\n",
      "| CGF      |     1.97 | heptano      | tolueno      | 0.3718 | 0.51 |\n",
      "| ULL      |     2.24 | p_xileno     | o-xileno     | 0.3777 | 0.42 |\n",
      "| ELG      |     1.94 | octano       | pentano      | 0.5126 | 0.41 |\n",
      "| RPF      |     1.47 | pentano      | tolueno      | 0.4426 | 0.48 |\n",
      "| RRC      |     1.62 | o-xileno     | pentano      | 0.3683 | 0.53 |\n",
      "| BRS      |     1.58 | m-xileno     | p_xileno     | 0.2367 | 0.42 |\n",
      "| MSC      |     2.02 | tolueno      | m-xileno     | 0.8489 | 0.49 |\n",
      "| ASM      |     1.19 | benceno      | heptano      | 0.8231 | 0.47 |\n",
      "| GVG      |     1.93 | pentano      | p_xileno     | 0.5187 | 0.42 |\n"
     ]
    }
   ],
   "source": [
    "import random\n",
    "\n",
    "alunos = ['PCF','ICP','MCM','ACV','SFC','FEFC','MGL','IGD','CGF','ULL','ELG','RPF','RRC','BRS','MSC','ASM','GVG']\n",
    "\n",
    "foo = ['pentano', 'hexano', 'heptano', 'octano', 'ciclohexano','benceno','tolueno','o-xileno','m-xileno','p_xileno']\n",
    "\n",
    "print(f'| {'Inciais:':4s} | {'Presión:':8s} | {'Composto 1':12s} | {'Composto 2':12s} | {'  x_1':6s} | {'z_1':4s} |')\n",
    "print(f'| {':-------':4s} | {'-------:':8s} | {'---------:':12s} | {'---------:':12s} | {':----:':6s} | {':--:':4s} |')\n",
    "\n",
    "\n",
    "for i in alunos:\n",
    "    composto1 = random.choice(foo)\n",
    "    composto2 = random.choice(foo)\n",
    "    while composto1 == composto2:\n",
    "        composto2 = random.choice(foo)\n",
    "    \n",
    "    presion_bar = random.uniform(1.15, 2.25)\n",
    "    z_1 = random.uniform(0.40, .60)\n",
    "    fraccion_molar1 = random.uniform(0.1, 0.9)\n",
    "\n",
    "    print(f'| {i:8s} | {presion_bar:8.2f} | {composto1:12s} | {composto2:12s} | {fraccion_molar1:1.4f} | {z_1:1.2f} |')\n",
    "    # (,composto1,composto2,fraccion_molar1,fraccion_molar2)\n",
    "\n"
   ]
  }
 ],
 "metadata": {
  "kernelspec": {
   "display_name": ".venv",
   "language": "python",
   "name": "python3"
  },
  "language_info": {
   "codemirror_mode": {
    "name": "ipython",
    "version": 3
   },
   "file_extension": ".py",
   "mimetype": "text/x-python",
   "name": "python",
   "nbconvert_exporter": "python",
   "pygments_lexer": "ipython3",
   "version": "3.12.6"
  }
 },
 "nbformat": 4,
 "nbformat_minor": 2
}
