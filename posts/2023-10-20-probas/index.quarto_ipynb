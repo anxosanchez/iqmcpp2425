{
  "cells": [
    {
      "cell_type": "markdown",
      "metadata": {},
      "source": [
        "---\n",
        "title: \"Cálculos de separacións flash\"\n",
        "author: Anxo Sánchez\n",
        "format:\n",
        "  html:\n",
        "    code-fold: false\n",
        "jupyter: python3\n",
        "image: \"/imaxes/flash.png\"\n",
        "---\n",
        "\n",
        "\n",
        "# Cálculos flash             \n",
        "  \n",
        "<a href=\"https://colab.research.google.com/github/anxosanchez/SOPQ-2324/blob/main/notebooks/Diagramas_Pxy_Txy.ipynb\">\n",
        "  <img src=\"https://colab.research.google.com/assets/colab-badge.svg\" alt=\"Open In Colab\"/>\n",
        "</a>\n",
        "\n",
        "Tanque de separación flash\n",
        "  \n",
        "<center>\n",
        "![](/imaxes/flash.png)\n",
        "</center>\n",
        "  \n",
        "Os cálculos de flash úsanse para procesos de equilibrio vapor/líquido (VLE). Un proceso típico que require cálculos de flash , é aquel no que fluxo de alimentación (F) se separa nun produto vapor (V) e outro líquido (L) como na figura anterior.\n",
        "\n",
        "En principio, os cálculos de flash son sinxelos e implican combinar as ecuacións de VLE cos balances de materia dos compoñentes e, nalgúns casos, o balance de enerxía . Algúns cálculos de flash son:\n",
        "\n",
        "1. Punto de burbulla a unha $T$ dada (fácil)   \n",
        "2. Punto de burbulla a unha $p$ dada (hase de iterar en T)\n",
        "3. Punto de rocío a unha $T$ dada (fácil)\n",
        "4. Punto de rocío a unha $p$ dada (hase de iterar en T )\n",
        "5. Flash a $p$ e $T$ (relativamente fácil)\n",
        "6. flash dadas $p$ e $H$ (flash estándar, por exemplo, para un flash de tanque despois de unha válvula)\n",
        "7. Flash dadas $p$ e $S$ (por exemplo, para unha turbina de condensación)\n",
        "8. Flash dadas $U$ e $V$ (por exemplo, para a simulación dinámica dunha batería de flash adiabáticos)   \n",
        "\n",
        "Os últimos tres son un pouco máis complicadas e esixen o cómputo de relacións de equilibrio e balances de enerxía $H$ , $S$ , etc. A continuación se ilustran algúns cálculos flash. En todos eles se asumime que o VLE ven dado polos valores de $K$, que é:\n",
        "  \n",
        "$$\n",
        "y_i = K_i \\cdot x_i\n",
        "$$ \n",
        "  \n",
        "onde $y_i$ é a fraccións molares de cada compoñente $i$ na fase vapor e $x_i$ as fraccións molares de cada compoñente $i$ na fase líquida. En xeral, valor de $K$ depende da temperatura $T$ , a presión, $p$ e a composición (ambas, $x_i$ e $y_i$). Supoñemos mestura idal, e usamos a _Lei de Raoult_. Neste caso, $K_i$ depende de $T$ e $p$ somentes:\n",
        "  \n",
        "$$\n",
        "Lei \\; de \\; Raoult: K_i = \\frac {p^{saturación}_i (T)} {p}\n",
        "$$\n",
        "  \n",
        "A presión de saturación, $p^{sat} (T)$ utilizando os parámetros de _Antoine_.\n",
        "\n",
        "## Cálculos do punto de burbulla            \n",
        "\n",
        "Consideremos primeiro cálculos de puntos de burbulla. Neste caso dáse a composición en fase líquida $x_i$ (corresponde ao caso en que $V$ é moi pequena ($V \\geq 20$) e $x_i = z_i$ na figura). O punto de burbulla dun líquido é o punto no que o líquido xusto comeza a evaporarse (ferver), que é, cando a primeira burbulla de vapor se forma. Dada unha temperatura constante, debese diminuír a presión ata que se forma a primeira burbulla. Dada unha presión constante, débese aumentar a temperatura ata que se forma a primeira burbulla. En ambos os casos, esto correspondese con axustar $T$ ou $p$ ata que a suma de das fraccións de vpor é a unidade, $ \\sum y_i = 1$ ou:\n",
        "  \n",
        "$$\n",
        "\\sum_i K_i x_i = 1              \n",
        "$$\n",
        "  \n",
        "onde se coñece $x_i$ . Para o caso ideal onde se cumpre a _lei de Raoult_ isto dá:\n",
        "  \n",
        "$$\n",
        "\\sum_i x_i p_i^{sat} (T) = p             \n",
        "$$\n",
        "  \n",
        "### Exemplo. Punto de burbulla á temperatura $T$ dada.\n",
        "Unha mestura líquida contén 50% de pentano, 30% de hexano e 20% de ciclohexano (en moles), é dicir, $x_{pentano} = 0.5; x_{hexano} = 0.3 e x_{ciclohexano} = 0.2$. A $T = 400 K$ se baixa a presión gradulmente. Cál é a presión de burbulla e a composición do primeiro vapor que condensa?. Supoñer unha mestura líquida ideal e gas ideal (_lei de Raoult_).\n",
        "\n",
        "### Solución.\n",
        "\n",
        "Temos que atopar unha $p$ que satisfaga a ecuación anterior. Dado que se dá $T$ , isto é trivial. Podemos simplemente calcular $p$:\n",
        "Comezamos por calcular as presións de vapor para os tres compoñentes en $T = 400 K$. Usando os datos da _ecuación de Antoine_:\n"
      ],
      "id": "285dee31"
    },
    {
      "cell_type": "code",
      "metadata": {},
      "source": [
        "import numpy as np"
      ],
      "id": "886e3aea",
      "execution_count": null,
      "outputs": []
    },
    {
      "cell_type": "code",
      "metadata": {},
      "source": [
        "# Datos\n",
        "x_pentano     = 0.5\n",
        "x_hexano      = 0.3\n",
        "x_ciclohexano = 0.2\n",
        "# pentano C5H12\n",
        "T = 400 # K\n",
        "A_pentano = 3.97786\n",
        "B_pentano = 1064.840\n",
        "C_pentano = -41.136\n",
        "# hexano C6H14\n",
        "A_hexano = 4.00139\n",
        "B_hexano = 1170.875\n",
        "C_hexano = -48.833\n",
        "# cyclohexano C6H12\n",
        "A_ciclohexano = 3.93002\n",
        "B_ciclohexano = 1182.774\n",
        "C_ciclohexano = -52.532\n",
        "p_sat_pentano =  10 ** (A_pentano - B_pentano / ( C_pentano + T ))\n",
        "p_sat_hexano =  10 ** (A_hexano - B_hexano / ( C_hexano + T ))\n",
        "p_sat_ciclohexano =  10 ** (A_ciclohexano - B_ciclohexano / ( C_ciclohexano + T ))\n",
        "p_pentano     = x_pentano     * p_sat_pentano\n",
        "p_hexano      = x_hexano      * p_sat_hexano\n",
        "p_ciclohexano = x_ciclohexano * p_sat_ciclohexano\n",
        "p_burbulla    = p_pentano + p_hexano + p_ciclohexano"
      ],
      "id": "3f1213d6",
      "execution_count": null,
      "outputs": []
    },
    {
      "cell_type": "code",
      "metadata": {},
      "source": [
        "print('Presión de saturación do pentano     ', '(', T, ') K = ', p_sat_pentano, 'bar')\n",
        "print('Presión de saturación do hexano      ', '(', T, ') K = ', p_sat_hexano, 'bar')\n",
        "print('Presión de saturación do ciclohexano ', '(', T, ') K = ', p_sat_ciclohexano, 'bar')\n",
        "print('Presión parcial do pentano           ', '(', T, ') K = ', p_pentano, 'bar')\n",
        "print('Presión parcial do hexano            ', '(', T, ') K = ', p_hexano, 'bar')\n",
        "print('Presión parcial do ciclohexano       ', '(', T, ') K = ', p_ciclohexano, 'bar')\n",
        "print('Presión de burbulla                  ', '(', T, ') K = ', p_burbulla, 'bar')"
      ],
      "id": "b8de5466",
      "execution_count": null,
      "outputs": []
    },
    {
      "cell_type": "markdown",
      "metadata": {},
      "source": [
        "As fraccións molares calcúlanse a partires da _ecuación de Dalton_:\n",
        "  \n",
        "$$\n",
        "p_{total} = \\sum_i p_i\n",
        "$$\n",
        "  \n",
        "logo:\n",
        "  \n",
        "$$\n",
        "p_i = p_{total}* x_i\n",
        "$$\n",
        "  \n",
        "Por tanto:\n",
        "  \n",
        "$$\n",
        "x_i = \\frac{p_i}{p_{total}}\n",
        "$$\n"
      ],
      "id": "9f708880"
    },
    {
      "cell_type": "code",
      "metadata": {},
      "source": [
        "x_pentano     = p_pentano / p_burbulla\n",
        "x_hexano      = p_hexano / p_burbulla\n",
        "x_ciclohexano = p_ciclohexano / p_burbulla\n",
        "print('Fracción  molar do pentano     no punto de burbulla = ', x_pentano)\n",
        "print('Fracción  molar do hexano      no punto de burbulla = ', x_hexano)\n",
        "print('Fracción  molar do ciclohexano no punto de burbulla = ', x_ciclohexano)"
      ],
      "id": "3a6102fc",
      "execution_count": null,
      "outputs": []
    },
    {
      "cell_type": "markdown",
      "metadata": {},
      "source": [
        "### Exemplo Punto de burbula a unha presión dada\n",
        "Considera o mesmo líquido do problema anterior. Á presión de 5 bar, a temperatura increméntase gradualmente. Cál é atempertura e a composición do primeiro vapor que se forma?.\n",
        "\n",
        "### Solución.\n",
        "Neste caso, nos dan $p$ e $x_i$ e a ecuación anterior convértese nunha ecuación implícita en $T$ que temos que resolver por medio de algún método numérico, como pode ser iteración simple. Unha forma simple de resolvelo sería ir iterando $T$ ata que a presión de burbulla sexa 5 bar\n",
        "y1 =\n",
        "p1\n",
        "p\n",
        "= 0.724; y2 =\n",
        "p2\n",
        "p\n",
        "= 0.187; y3 =\n",
        "p3\n",
        "p\n",
        "= 0.089\n",
        "\n",
        "## Cálculos no punto de orballo\n",
        "Neste caso, coñecemos a composición da fase de vapor $y_i$ (corresponde ao caso en que $L$ é moi pequena ($L \\geq 0$) e $y_i = z_i$. O punto de orballo dun vapor (gas) é o punto no que comeza a condensaar, é dicir, cando se forma a primeira gota de líquido. A temperatura constante, débese aumentar a presión ata que se forme o primeiro líquido. A presión constante, débese diminuír a temperatura ata que se forme o primeiro líquido. En ámbalos dous casos, isto corresponde axustar $T$ ou $p$ ata que\n",
        "  \n",
        "$$\n",
        "\\sum x_i = 1\n",
        "$$\n",
        "  \n",
        "ou:\n",
        "  \n",
        "$$\n",
        "\\Sigma_{i} y_{i} / K_{i}=1\n",
        "$$\n",
        "  \n",
        "onde $y_i$ ven dado. Para unha mestura ideal que cumpre ca _lei de Raoult_:\n",
        "\n",
        "$$\n",
        "\\Sigma_{i} \\frac{y_{i}}{p_{i}^{\\mathrm{sat}}(T)}=\\frac{1}{p}\n",
        "$$\n",
        "  \n",
        "### Exemplo Punto de orballo a unha temperatura $T$ dada.\n",
        "\n",
        "Unha mestura líquida contén 50% de pentano, 30% de hexano e 20% de ciclohexano (en moles), é dicir, $x_{pentano} = 0.5; x_{hexano} = 0.3 e x_{ciclohexano} = 0.2$. A $T = 400 K$ se incrementa a presión gradulmente. Cál é a presión de orballo e a composición do primeiro líquido que condensa?. Supoñer unha mestura líquida ideal e gas ideal (_lei de Raoult_).\n",
        "\n",
        "### Solución. \n",
        "Atopar o valor de $p$ que satisfai a ecuación anterior. Posto que $T$ ven dada, a solución é trivial; simplementa calculamos $1/p$ a partires dela.\n"
      ],
      "id": "6b0f9819"
    },
    {
      "cell_type": "code",
      "metadata": {},
      "source": [
        "y_pentano     = 0.5\n",
        "y_hexano      = 0.3\n",
        "y_ciclohexano = 0.2\n",
        "T = 400 # K\n",
        "p_orballo = 1 / ( y_pentano / p_sat_pentano + y_hexano / p_sat_hexano + y_ciclohexano / p_sat_ciclohexano)\n",
        "x_pentano = y_pentano * p_orballo / p_sat_pentano\n",
        "x_hexano = y_hexano * p_orballo / p_sat_hexano\n",
        "x_ciclohexano = y_ciclohexano * p_orballo / p_sat_ciclohexano"
      ],
      "id": "66d62ab0",
      "execution_count": null,
      "outputs": []
    },
    {
      "cell_type": "code",
      "metadata": {},
      "source": [
        "# print(\"Presión de orballo a {:5.2f} [K]\".format(T))\n",
        "print(\"Temperatura        = {:5.2f} [bar]\".format(T))\n",
        "print(\"Presión de orballo = {:5.2f} [bar]\".format(p_orballo))\n",
        "print(\"  Composición  Composto         x[i]   y[i]\")\n",
        "print(\"               {:10s}     {:6.4}{:6.4} \".format('pentano',x_pentano,y_pentano))\n",
        "print(\"               {:10s}     {:6.4}{:6.4} \".format('hexano',x_hexano,y_hexano))\n",
        "print(\"               {:10s}    {:6.4}{:6.4} \".format('ciclohexano',x_ciclohexano,y_ciclohexano))"
      ],
      "id": "caceb6ff",
      "execution_count": null,
      "outputs": []
    },
    {
      "cell_type": "markdown",
      "metadata": {},
      "source": [
        "### Exemplo. Punto de orballo a unha presión $p$ dada. \n",
        "Considera a mesma mestura do problema anterios. At $p$ = 5 bar, a temperatura vaise diminuindo gradialmente. Cál é a tenmperatura de orballo e a composición do primeiro líquido que se foram?.\n",
        "\n",
        "### Solución\n",
        "Neste caso, nos dan $p$ e $y_i$, e a ecuación de antes convértese nunha ecuación implícita en $T$ que necesita de resolverse numéricamente por un método numérico, por exemplo iteración.\n"
      ],
      "id": "cd85bd93"
    },
    {
      "cell_type": "code",
      "metadata": {},
      "source": [
        "from scipy.optimize import fsolve"
      ],
      "id": "da690480",
      "execution_count": null,
      "outputs": []
    },
    {
      "cell_type": "code",
      "metadata": {},
      "source": [
        "presion = 5. # bar\n",
        "T_gues  = 400. # K \n",
        "\n",
        "def orballo(T):\n",
        "    fun = ( 1 / presion) - y_pentano / 10 ** ( A_pentano - B_pentano / ( C_pentano + T ) ) - y_hexano / 10 ** ( A_hexano - B_hexano / ( C_hexano + T ) ) - y_ciclohexano / 10 ** ( A_ciclohexano - B_ciclohexano / ( C_ciclohexano + T ) ) \n",
        "    return fun\n",
        "\n",
        "T_orballo = fsolve(orballo, T_gues)"
      ],
      "id": "be72ce7d",
      "execution_count": null,
      "outputs": []
    },
    {
      "cell_type": "code",
      "metadata": {},
      "source": [
        "print(\"Temperatura de orballo calculada con fsolve = \", T_orballo)"
      ],
      "id": "176af393",
      "execution_count": null,
      "outputs": []
    },
    {
      "cell_type": "code",
      "metadata": {},
      "source": [
        "from scipy.optimize import root\n",
        "T = root(orballo, [300,400])"
      ],
      "id": "23b397a9",
      "execution_count": null,
      "outputs": []
    },
    {
      "cell_type": "code",
      "metadata": {},
      "source": [
        "print(\"Temperatura de orballo calculada con fsolve = \", T_orballo)"
      ],
      "id": "3eefe828",
      "execution_count": null,
      "outputs": []
    },
    {
      "cell_type": "code",
      "metadata": {},
      "source": [
        "# Táboa 7.2 : Datos para exemplos e exercicios de flash: parámetros de Antoine para p sat ( T ), temperatura normal de ebulición ( T b ) e calor de vaporización ∆ vap H ( T b ) para os compoñentes seleccionados. Datos : Poling, Prausnitz e O'Connell, As propiedades de gases e líquidos , 5 th Ed., McGraw-Hill (2001).\n",
        "# log10(psat[bar]) = A - B / ( T [K] + C) Tb [ K ] dv a p H b [ J / m o l ]\n",
        "# pentano C5H12\n",
        "A_C5 = 3.97786\n",
        "B_C5 = 1064.840\n",
        "C_C5 = -41.136\n",
        "# hexano C6H14\n",
        "A_C6 = 4.00139\n",
        "B_C6 = 1170.875\n",
        "C_C6 = -48.833\n",
        "# ciclohexano C6H12\n",
        "A_CC6 =3.93002\n",
        "B_CC6 = 1182.774\n",
        "C_CC6 = -52.532"
      ],
      "id": "7d6b5094",
      "execution_count": null,
      "outputs": []
    }
  ],
  "metadata": {
    "kernelspec": {
      "name": "python3",
      "language": "python",
      "display_name": "Python 3 (ipykernel)",
      "path": "/home/anxo/.local/share/jupyter/kernels/python3"
    }
  },
  "nbformat": 4,
  "nbformat_minor": 5
}