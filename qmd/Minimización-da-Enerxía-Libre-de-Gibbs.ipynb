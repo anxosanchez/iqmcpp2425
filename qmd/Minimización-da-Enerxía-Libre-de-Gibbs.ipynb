{
  "nbformat": 4,
  "nbformat_minor": 0,
  "metadata": {
    "colab": {
      "provenance": [],
      "authorship_tag": "ABX9TyODTYGWmF9rSRABhtsMxhSj",
      "include_colab_link": true
    },
    "kernelspec": {
      "name": "python3",
      "display_name": "Python 3"
    },
    "language_info": {
      "name": "python"
    }
  },
  "cells": [
    {
      "cell_type": "markdown",
      "metadata": {
        "id": "view-in-github",
        "colab_type": "text"
      },
      "source": [
        "<a href=\"https://colab.research.google.com/github/anxosanchez/SOPQ-2324/blob/main/Minimizaci%C3%B3n-da-Enerx%C3%ADa-Libre-de-Gibbs.ipynb\" target=\"_parent\"><img src=\"https://colab.research.google.com/assets/colab-badge.svg\" alt=\"Open In Colab\"/></a>"
      ]
    },
    {
      "cell_type": "markdown",
      "source": [
        "Neste **notebook** analizamos a minimización directa da **enerxía libre de Gibbs** das especies, sen supostos sobre a estequiometría das reaccións. Só aplicamos a restrición de conservación dos átomos. Usamos o **NIST Webbook** para proporcionar os datos da enerxía de Gibbs de cada especie.\n",
        "\n",
        "Como recordatorio, consideramos o equilibrio entre as especies $CO$, $H_2O$, $CO_2$ e $H_2$, a 1000K, e unha presión total de 5 atm cun caudal equimolar inicial de $CO$ e $H_2O$.\n",
        "\n",
        "Imos almacenar todos os datos e cálculos en vectores, polo que debemos asignar cada posición do vector a unha especie. Aquí están as definicións que utilizamos neste traballo.\n",
        "\n",
        "1.  CO  \n",
        "2.  H<sub>2</sub>O  \n",
        "3.  CO<sub>2</sub>  \n",
        "4.  H<sub>2</sub>"
      ],
      "metadata": {
        "id": "SFg2PRXUPMxa"
      }
    },
    {
      "cell_type": "code",
      "source": [
        "# @title\n",
        "import numpy as np\n",
        "\n",
        "T = 842  # K\n",
        "R = 8.314e-3 # kJ/mol/K\n",
        "\n",
        "P = 5.37 # atm, this is the total pressure in the reactor\n",
        "Po = 1.0 # atm, this is the standard state pressure"
      ],
      "metadata": {
        "id": "2XOERo3WPb5e",
        "cellView": "form"
      },
      "execution_count": 13,
      "outputs": []
    },
    {
      "cell_type": "code",
      "source": [
        "# @title\n",
        "species = ['CO', 'H2O', 'CO2', 'H2']"
      ],
      "metadata": {
        "id": "dYWcwkgmPxFT",
        "cellView": "form"
      },
      "execution_count": 14,
      "outputs": []
    },
    {
      "cell_type": "markdown",
      "source": [
        "Agora, constrúuiremos a función de **enerxía libre de Gibbs**, explicando o cambio de actividade debido aos cambios de concentración (mestura ideal).\n",
        "\n",
        "Impoñemos a restrición de que todos os átomos se conserven desde as condicións iniciais ata a distribución en equilibrio das especies. Estas restricións teñen a forma de $A_{eq} n = b_{eq}$, onde $n$ é o vector dos números moles de cada especie."
      ],
      "metadata": {
        "id": "Ceb8t6mUS1bn"
      }
    },
    {
      "cell_type": "code",
      "source": [
        "# @title\n",
        "# Heats of formation at 298.15 K\n",
        "\n",
        "Hf298 = [\n",
        "    -110.53,  # CO\n",
        "    -241.826, # H2O\n",
        "    -393.51,  # CO2\n",
        "       0.0]   # H2\n"
      ],
      "metadata": {
        "id": "9AyzwG_NPxv6",
        "cellView": "form"
      },
      "execution_count": 15,
      "outputs": []
    },
    {
      "cell_type": "markdown",
      "source": [
        "Agora estamos preparados para resolver o problema."
      ],
      "metadata": {
        "id": "-hWJok7CTe98"
      }
    },
    {
      "cell_type": "markdown",
      "source": [],
      "metadata": {
        "id": "hY61ySXhTMu-"
      }
    },
    {
      "cell_type": "markdown",
      "source": [
        "## 1 Cálculo das fraccións molares e presións parciais\n",
        "\n",
        "As presións aquí están de acordo coas presións atopadas por outros métodos. O pequeno desacordo (no terceiro ou cuarto decimal) débese probablemente a tolerancias de converxencia nos diferentes algoritmos utilizados."
      ],
      "metadata": {
        "id": "ZgkaghKUTrTA"
      }
    },
    {
      "cell_type": "code",
      "source": [
        "# @title\n",
        "# Shomate parameters for each species\n",
        "#           A          B           C          D          E            F          G       H\n",
        "WB = [[25.56759,  6.096130,     4.054656,  -2.671301,  0.131021, -118.0089, 227.3665,   -110.5271],  # CO\n",
        "      [30.09200,  6.832514,     6.793435,  -2.534480,  0.082139, -250.8810, 223.3967,   -241.8264],  # H2O\n",
        "      [24.99735,  55.18696,   -33.69137,    7.948387, -0.136638, -403.6075, 228.2431,   -393.5224],  # CO2\n",
        "      [33.066178, -11.363417,  11.432816,  -2.772874, -0.158558, -9.980797, 172.707974,    0.0]]     # H2\n",
        "\n",
        "WB = np.array(WB)"
      ],
      "metadata": {
        "id": "gORMupVxQPgV",
        "cellView": "form"
      },
      "execution_count": 16,
      "outputs": []
    },
    {
      "cell_type": "code",
      "source": [
        "# @title\n",
        "# Shomate equations\n",
        "\n",
        "t = T/1000\n",
        "\n",
        "T_H = np.array([t,  t**2 / 2.0, t**3 / 3.0, t**4 / 4.0, -1.0 / t, 1.0, 0.0, -1.0])\n",
        "T_S = np.array([np.log(t), t,  t**2 / 2.0,  t**3 / 3.0, -1.0 / (2.0 * t**2), 0.0, 1.0, 0.0])\n",
        "\n",
        "H = np.dot(WB, T_H)        # (H - H_298.15) kJ/mol\n",
        "S = np.dot(WB, T_S/1000.0) # absolute entropy kJ/mol/K\n",
        "\n",
        "Gjo = Hf298 + H - T*S      # Gibbs energy of each component at 1000 K\n"
      ],
      "metadata": {
        "id": "i3xWrwDUP6dI",
        "cellView": "form"
      },
      "execution_count": 17,
      "outputs": []
    },
    {
      "cell_type": "code",
      "source": [
        "# @title\n",
        "def func(nj):\n",
        "    nj = np.array(nj)\n",
        "    Enj = np.sum(nj);\n",
        "    Gj =  Gjo / (R * T) + np.log(nj / Enj * P / Po)\n",
        "    return np.dot(nj, Gj)"
      ],
      "metadata": {
        "id": "S8pI92QTQFzQ",
        "cellView": "form"
      },
      "execution_count": 18,
      "outputs": []
    },
    {
      "cell_type": "code",
      "source": [
        "# @title\n",
        "Aeq = np.array([[ 1,    0,    1,    0],  # C balance\n",
        "                [ 1,    1,    2,    0],  # O balance\n",
        "                [ 0,    2,    0,    2]]) # H balance"
      ],
      "metadata": {
        "id": "QAuyoog9QWfs",
        "cellView": "form"
      },
      "execution_count": 19,
      "outputs": []
    },
    {
      "cell_type": "code",
      "source": [
        "# @title\n",
        "# equimolar feed of 1 mol H2O and 1 mol CO\n",
        "beq = np.array([1,  # mol C fed\n",
        "                2,  # mol O fed\n",
        "                2]) # mol H fed"
      ],
      "metadata": {
        "id": "T5WtOsjDQgtB",
        "cellView": "form"
      },
      "execution_count": 20,
      "outputs": []
    },
    {
      "cell_type": "code",
      "source": [
        "# @title\n",
        "def ec1(nj):\n",
        "    'restriccións da lei de conservaxción de átomos'\n",
        "    return np.dot(Aeq, nj) - beq"
      ],
      "metadata": {
        "id": "-K3zIxGgQn1G",
        "cellView": "form"
      },
      "execution_count": 21,
      "outputs": []
    },
    {
      "cell_type": "code",
      "source": [
        "# @title\n",
        "from scipy.optimize import fmin_slsqp\n",
        "\n",
        "n0 = [0.5, 0.5, 0.5, 0.5]  # initial guesses\n",
        "N = fmin_slsqp(func, n0, f_eqcons=ec1)\n",
        "print (N)"
      ],
      "metadata": {
        "colab": {
          "base_uri": "https://localhost:8080/"
        },
        "id": "Qozs9kqpQxCV",
        "outputId": "d3df5bf8-6b64-4848-f753-b5709b988e26",
        "cellView": "form"
      },
      "execution_count": 22,
      "outputs": [
        {
          "output_type": "stream",
          "name": "stdout",
          "text": [
            "Optimization terminated successfully    (Exit mode 0)\n",
            "            Current function value: -99.9406728442514\n",
            "            Iterations: 3\n",
            "            Function evaluations: 16\n",
            "            Gradient evaluations: 3\n",
            "[0.35799303 0.35799303 0.64200697 0.64200697]\n"
          ]
        }
      ]
    },
    {
      "cell_type": "markdown",
      "source": [
        "## 1 Cálculo das fraccións molares e presións parciais\n",
        "\n",
        "As presións aquí están de acordo cas presións atopadas por outros métodos. O pequeno desacordo (no terceiro ou cuarto decimal) débese probablemente a tolerancias de converxencia nos diferentes algoritmos utilizados."
      ],
      "metadata": {
        "id": "rHF94_BHVirm"
      }
    },
    {
      "cell_type": "code",
      "source": [
        "# @title\n",
        "yj = N / np.sum(N)\n",
        "Pj = yj * P\n",
        "\n",
        "for s, y, p in zip(species, yj, Pj):\n",
        "    print (s, y, p)"
      ],
      "metadata": {
        "colab": {
          "base_uri": "https://localhost:8080/"
        },
        "id": "QnQP0DW7Q3eY",
        "outputId": "c0bc248f-fcce-4986-c97b-e626475337fb",
        "cellView": "form"
      },
      "execution_count": 23,
      "outputs": [
        {
          "output_type": "stream",
          "name": "stdout",
          "text": [
            "CO 0.17899651631887759 0.9612112926323727\n",
            "H2O 0.17899651631887759 0.9612112926323727\n",
            "CO2 0.3210034836811224 1.7237887073676275\n",
            "H2 0.3210034836811224 1.7237887073676275\n"
          ]
        }
      ]
    },
    {
      "cell_type": "markdown",
      "source": [
        "## 2. Cálculo de constantes de equilibrio\n",
        "Podemos calcular a constante de equilibrio para a reacción:\n",
        "  \n",
        "$$\n",
        "CO+H_2O⇌CO_2+H_2\n",
        "$$\n",
        "    \n",
        "ten en en conta que para definir unha constante de equilibrio é necesario especificar unha reacción, aínda que nin sequera sexa necesario considerar unha reacción para obter a distribución en equilibrio das especies."
      ],
      "metadata": {
        "id": "eyR3Stq1U9Lw"
      }
    },
    {
      "cell_type": "code",
      "source": [
        "# @title\n",
        "nuj = np.array([-1, -1, 1, 1])  # stoichiometric coefficients of the reaction\n",
        "K = np.prod(yj**nuj)\n",
        "print('A constante de equilibrio (adimensional) vale: {:5.4f}'.format(K))"
      ],
      "metadata": {
        "colab": {
          "base_uri": "https://localhost:8080/"
        },
        "id": "C6vPupfiRfLK",
        "outputId": "d635c9a5-01ea-4ac2-da35-28ab01e85e70",
        "cellView": "form"
      },
      "execution_count": 24,
      "outputs": [
        {
          "output_type": "stream",
          "name": "stdout",
          "text": [
            "A constante de equilibrio (adimensional) vale: 3.2161\n"
          ]
        }
      ]
    }
  ]
}